{
 "cells": [
  {
   "cell_type": "markdown",
   "id": "ed088e65",
   "metadata": {},
   "source": [
    "# 🗄️ Configurando SQLite com Prisma no Projeto ProfessionalPage\n",
    "\n",
    "Este notebook irá guiá-lo através do processo completo de configuração do SQLite com Prisma no seu projeto Next.js.\n",
    "\n",
    "## 📋 Pré-requisitos\n",
    "- Node.js instalado\n",
    "- Projeto Next.js configurado\n",
    "- Terminal acessível\n",
    "\n",
    "## 🎯 O que vamos fazer:\n",
    "1. ✅ Instalar dependências necessárias\n",
    "2. ✅ Configurar variáveis de ambiente\n",
    "3. ✅ Verificar o schema do Prisma\n",
    "4. ✅ Executar migrações\n",
    "5. ✅ Gerar o Prisma Client\n",
    "6. ✅ Testar a conexão"
   ]
  },
  {
   "cell_type": "markdown",
   "id": "55a3cea9",
   "metadata": {},
   "source": [
    "## 📦 Passo 1: Instalar Dependências Necessárias\n",
    "\n",
    "Primeiro, vamos instalar todas as dependências necessárias para o Prisma funcionar com SQLite."
   ]
  },
  {
   "cell_type": "code",
   "execution_count": null,
   "id": "e6fcf568",
   "metadata": {
    "vscode": {
     "languageId": "javascript"
    }
   },
   "outputs": [
    {
     "ename": "",
     "evalue": "",
     "output_type": "error",
     "traceback": [
      "\u001b[1;31mA execução de células com 'Python 3.12.3' requer o pacote ipykernel.\n",
      "\u001b[1;31m<a href='command:jupyter.createPythonEnvAndSelectController'>Crie um ambiente Python</a> com os pacotes necessários.\n",
      "\u001b[1;31mOu instale 'ipykernel' usando o comando: '/bin/python3 -m pip install ipykernel -U --user --force-reinstall'"
     ]
    }
   ],
   "source": [
    "// Execute estes comandos no terminal:\n",
    "// 1. Instalar Prisma CLI e Client\n",
    "// npm install prisma @prisma/client\n",
    "\n",
    "// 2. Instalar driver SQLite (se necessário)\n",
    "// npm install sqlite3\n",
    "\n",
    "// Para verificar se as dependências foram instaladas:\n",
    "console.log(\"✅ Dependências a instalar:\");\n",
    "console.log(\"📦 prisma - CLI do Prisma\");\n",
    "console.log(\"📦 @prisma/client - Cliente do Prisma\");\n",
    "console.log(\"📦 sqlite3 - Driver SQLite\");\n",
    "console.log(\"\");\n",
    "console.log(\"💡 Comando completo:\");\n",
    "console.log(\"npm install prisma @prisma/client sqlite3\");"
   ]
  },
  {
   "cell_type": "markdown",
   "id": "5689bbe5",
   "metadata": {},
   "source": [
    "## 🔧 Passo 2: Configurar Arquivo .env\n",
    "\n",
    "O arquivo `.env` contém as variáveis de ambiente do projeto, incluindo a URL do banco de dados."
   ]
  },
  {
   "cell_type": "code",
   "execution_count": null,
   "id": "e6356b56",
   "metadata": {
    "vscode": {
     "languageId": "javascript"
    }
   },
   "outputs": [
    {
     "ename": "",
     "evalue": "",
     "output_type": "error",
     "traceback": [
      "\u001b[1;31mA execução de células com 'Python 3.12.3' requer o pacote ipykernel.\n",
      "\u001b[1;31m<a href='command:jupyter.createPythonEnvAndSelectController'>Crie um ambiente Python</a> com os pacotes necessários.\n",
      "\u001b[1;31mOu instale 'ipykernel' usando o comando: '/bin/python3 -m pip install ipykernel -U --user --force-reinstall'"
     ]
    }
   ],
   "source": [
    "// Conteúdo do arquivo .env na raiz do projeto:\n",
    "// ================================================================\n",
    "\n",
    "const envConfig = `# Database\n",
    "DATABASE_URL=\"file:./dev.db\"\n",
    "\n",
    "# Next Auth (se usar autenticação)\n",
    "NEXTAUTH_SECRET=\"your-secret-key-here\"\n",
    "NEXTAUTH_URL=\"http://localhost:3000\"\n",
    "`;\n",
    "\n",
    "console.log(\"📄 Arquivo .env deve conter:\");\n",
    "console.log(envConfig);\n",
    "console.log(\"\");\n",
    "console.log(\"🎯 Explicação:\");\n",
    "console.log(\"• DATABASE_URL: Localização do arquivo SQLite\");\n",
    "console.log(\"• file:./dev.db: Cria arquivo 'dev.db' na raiz do projeto\");\n",
    "console.log(\"• Você pode alterar o nome do arquivo (ex: ./database.db)\");\n",
    "console.log(\"\");\n",
    "console.log(\"⚠️ IMPORTANTE: Adicione .env no .gitignore para não versionar!\");"
   ]
  },
  {
   "cell_type": "markdown",
   "id": "dc7c6586",
   "metadata": {},
   "source": [
    "## 📋 Passo 3: Verificar o Schema Prisma\n",
    "\n",
    "Seu projeto já tem um schema configurado. Vamos revisar a configuração atual:"
   ]
  },
  {
   "cell_type": "code",
   "execution_count": null,
   "id": "d05a3a1f",
   "metadata": {
    "vscode": {
     "languageId": "javascript"
    }
   },
   "outputs": [],
   "source": [
    "// Seu schema atual (prisma/schema.prisma):\n",
    "const currentSchema = `\n",
    "generator client {\n",
    "  provider = \"prisma-client-js\"\n",
    "}\n",
    "\n",
    "datasource db {\n",
    "  provider = \"sqlite\"  // ✅ Já configurado para SQLite\n",
    "  url      = env(\"DATABASE_URL\")\n",
    "}\n",
    "\n",
    "model Profissional {\n",
    "  id           String                  @id @default(cuid())\n",
    "  email        String                  @unique\n",
    "  phone        String\n",
    "  category     Categoria\n",
    "  layout       Layout\n",
    "  translations ProfissionalTraducao[]\n",
    "  createdAt    DateTime                @default(now())\n",
    "}\n",
    "\n",
    "model ProfissionalTraducao {\n",
    "  id             String       @id @default(cuid())\n",
    "  language       Idioma\n",
    "  nome           String\n",
    "  descricao      String\n",
    "  servicos       String\n",
    "  endereco       String\n",
    "  profissional   Profissional @relation(fields: [profissionalId], references: [id])\n",
    "  profissionalId String\n",
    "}\n",
    "\n",
    "enum Categoria {\n",
    "  MEDICINA\n",
    "  PSICOLOGIA\n",
    "  NUTRICAO\n",
    "  EDUCACIONAL\n",
    "}\n",
    "\n",
    "enum Layout {\n",
    "  L1\n",
    "  L2\n",
    "  L3\n",
    "}\n",
    "\n",
    "enum Idioma {\n",
    "  PT\n",
    "  DE\n",
    "  ES\n",
    "  SV\n",
    "  EN\n",
    "}\n",
    "`;\n",
    "\n",
    "console.log(\"✅ Schema Status:\");\n",
    "console.log(\"🎯 Provider: SQLite (correto)\");\n",
    "console.log(\"🎯 Models: Profissional + ProfissionalTraducao\");\n",
    "console.log(\"🎯 Enums: Categoria, Layout, Idioma\");\n",
    "console.log(\"\");\n",
    "console.log(\"📝 O schema está pronto para criar o banco!\");"
   ]
  },
  {
   "cell_type": "markdown",
   "id": "7c9e3ad8",
   "metadata": {},
   "source": [
    "## 🚀 Passo 4: Executar Migrações do Prisma\n",
    "\n",
    "Agora vamos criar o banco de dados SQLite e aplicar o schema:"
   ]
  },
  {
   "cell_type": "code",
   "execution_count": null,
   "id": "ec7f6a94",
   "metadata": {
    "vscode": {
     "languageId": "javascript"
    }
   },
   "outputs": [],
   "source": [
    "// Comandos para executar no terminal:\n",
    "\n",
    "console.log(\"🎯 Passo 4.1 - Primeira migração (cria o banco):\");\n",
    "console.log(\"npx prisma migrate dev --name init\");\n",
    "console.log(\"\");\n",
    "\n",
    "console.log(\"📋 O que este comando faz:\");\n",
    "console.log(\"✅ Cria o arquivo dev.db na raiz do projeto\");\n",
    "console.log(\"✅ Cria as tabelas baseadas no schema\");\n",
    "console.log(\"✅ Aplica as constraints e relacionamentos\");\n",
    "console.log(\"✅ Cria pasta prisma/migrations com histórico\");\n",
    "console.log(\"\");\n",
    "\n",
    "console.log(\"💡 Comandos alternativos úteis:\");\n",
    "console.log(\"• npx prisma db push     - Aplica schema sem criar migration\");\n",
    "console.log(\"• npx prisma db pull     - Sincroniza schema com DB existente\");\n",
    "console.log(\"• npx prisma migrate reset - Reseta banco (cuidado!)\");\n",
    "console.log(\"\");\n",
    "\n",
    "console.log(\"🔍 Após rodar, você verá:\");\n",
    "console.log(\"📄 dev.db - Arquivo do banco SQLite\");\n",
    "console.log(\"📁 prisma/migrations/ - Histórico de mudanças\");\n",
    "console.log(\"\");\n",
    "\n",
    "console.log(\"⚠️ Se der erro, verifique:\");\n",
    "console.log(\"• Arquivo .env existe na raiz\");\n",
    "console.log(\"• DATABASE_URL está correto\");\n",
    "console.log(\"• Prisma está instalado\");"
   ]
  },
  {
   "cell_type": "markdown",
   "id": "13386d13",
   "metadata": {},
   "source": [
    "## ⚙️ Passo 5: Gerar o Prisma Client\n",
    "\n",
    "O Prisma Client é o código que você usa para acessar o banco de dados:"
   ]
  },
  {
   "cell_type": "code",
   "execution_count": null,
   "id": "b8613745",
   "metadata": {
    "vscode": {
     "languageId": "javascript"
    }
   },
   "outputs": [],
   "source": [
    "// Comando para gerar o cliente:\n",
    "\n",
    "console.log(\"🔨 Comando para gerar o client:\");\n",
    "console.log(\"npx prisma generate\");\n",
    "console.log(\"\");\n",
    "\n",
    "console.log(\"📋 O que este comando faz:\");\n",
    "console.log(\"✅ Analisa o schema.prisma\");\n",
    "console.log(\"✅ Gera código TypeScript tipado\");\n",
    "console.log(\"✅ Cria pasta node_modules/.prisma/client\");\n",
    "console.log(\"✅ Permite import { PrismaClient } from '@prisma/client'\");\n",
    "console.log(\"\");\n",
    "\n",
    "console.log(\"🎯 Quando rodar este comando:\");\n",
    "console.log(\"• Sempre após mudar o schema.prisma\");\n",
    "console.log(\"• Após npm install em novo ambiente\");\n",
    "console.log(\"• Se estiver sem types no VS Code\");\n",
    "console.log(\"\");\n",
    "\n",
    "console.log(\"💡 Dicas:\");\n",
    "console.log(\"• O comando migrate dev já roda generate automaticamente\");\n",
    "console.log(\"• Adicione 'postinstall: prisma generate' no package.json\");\n",
    "console.log(\"• Comando é muito rápido (alguns segundos)\");"
   ]
  },
  {
   "cell_type": "markdown",
   "id": "0819a20d",
   "metadata": {},
   "source": [
    "## 🧪 Passo 6: Testar a Conexão e Operações\n",
    "\n",
    "Agora vamos testar se tudo está funcionando corretamente:"
   ]
  },
  {
   "cell_type": "code",
   "execution_count": null,
   "id": "226bea17",
   "metadata": {
    "vscode": {
     "languageId": "javascript"
    }
   },
   "outputs": [],
   "source": [
    "// Exemplo de código para testar (crie um arquivo test.js):\n",
    "\n",
    "const testCode = `\n",
    "// test.js - Execute com: node test.js\n",
    "const { PrismaClient } = require('@prisma/client');\n",
    "\n",
    "async function main() {\n",
    "  const prisma = new PrismaClient();\n",
    "  \n",
    "  try {\n",
    "    console.log('🔗 Testando conexão com SQLite...');\n",
    "    \n",
    "    // Teste 1: Criar um profissional\n",
    "    const profissional = await prisma.profissional.create({\n",
    "      data: {\n",
    "        email: 'dr.joao@exemplo.com',\n",
    "        phone: '+5511999999999',\n",
    "        category: 'MEDICINA',\n",
    "        layout: 'L1',\n",
    "        translations: {\n",
    "          create: [\n",
    "            {\n",
    "              language: 'PT',\n",
    "              nome: 'Dr. João Silva',\n",
    "              descricao: 'Médico especialista em cardiologia',\n",
    "              servicos: 'Consultas, Exames, Cirurgias',\n",
    "              endereco: 'Rua das Flores, 123 - São Paulo'\n",
    "            }\n",
    "          ]\n",
    "        }\n",
    "      },\n",
    "      include: {\n",
    "        translations: true\n",
    "      }\n",
    "    });\n",
    "    \n",
    "    console.log('✅ Profissional criado:', profissional);\n",
    "    \n",
    "    // Teste 2: Buscar profissionais\n",
    "    const todos = await prisma.profissional.findMany({\n",
    "      include: {\n",
    "        translations: true\n",
    "      }\n",
    "    });\n",
    "    \n",
    "    console.log('📋 Total de profissionais:', todos.length);\n",
    "    \n",
    "    console.log('🎉 Teste concluído com sucesso!');\n",
    "    \n",
    "  } catch (error) {\n",
    "    console.error('❌ Erro:', error);\n",
    "  } finally {\n",
    "    await prisma.$disconnect();\n",
    "  }\n",
    "}\n",
    "\n",
    "main();\n",
    "`;\n",
    "\n",
    "console.log(\"📄 Código para testar a conexão:\");\n",
    "console.log(testCode);\n",
    "console.log(\"\");\n",
    "console.log(\"🚀 Como testar:\");\n",
    "console.log(\"1. Crie arquivo test.js com o código acima\");\n",
    "console.log(\"2. Execute: node test.js\");\n",
    "console.log(\"3. Verifique se aparece '✅ Profissional criado'\");"
   ]
  },
  {
   "cell_type": "markdown",
   "id": "2d3a3a4a",
   "metadata": {},
   "source": [
    "## 🛠️ Comandos Úteis do Prisma\n",
    "\n",
    "Comandos que você usará frequentemente:"
   ]
  },
  {
   "cell_type": "code",
   "execution_count": null,
   "id": "474b70aa",
   "metadata": {
    "vscode": {
     "languageId": "javascript"
    }
   },
   "outputs": [],
   "source": [
    "// Comandos essenciais do Prisma:\n",
    "\n",
    "const comandos = {\n",
    "  \"Desenvolvimento\": {\n",
    "    \"npx prisma migrate dev\": \"Cria e aplica nova migração\",\n",
    "    \"npx prisma generate\": \"Gera o Prisma Client\",\n",
    "    \"npx prisma db push\": \"Aplica schema sem migração\",\n",
    "    \"npx prisma db seed\": \"Executa o seed (populate inicial)\"\n",
    "  },\n",
    "  \"Visualização\": {\n",
    "    \"npx prisma studio\": \"Interface visual do banco (WEB)\",\n",
    "    \"npx prisma db pull\": \"Sincroniza schema com DB existente\"\n",
    "  },\n",
    "  \"Produção\": {\n",
    "    \"npx prisma migrate deploy\": \"Aplica migrações em produção\",\n",
    "    \"npx prisma generate\": \"Gera client em produção\"\n",
    "  },\n",
    "  \"Debugging\": {\n",
    "    \"npx prisma migrate status\": \"Status das migrações\",\n",
    "    \"npx prisma migrate reset\": \"Reseta banco e aplica tudo novamente\",\n",
    "    \"npx prisma validate\": \"Valida o schema.prisma\"\n",
    "  }\n",
    "};\n",
    "\n",
    "console.log(\"📋 Comandos mais usados:\");\n",
    "Object.entries(comandos).forEach(([categoria, cmds]) => {\n",
    "  console.log(`\\n🎯 ${categoria}:`);\n",
    "  Object.entries(cmds).forEach(([cmd, desc]) => {\n",
    "    console.log(`  ${cmd}`);\n",
    "    console.log(`  → ${desc}\\n`);\n",
    "  });\n",
    "});\n",
    "\n",
    "console.log(\"💡 Dicas:\");\n",
    "console.log(\"• Use 'npx prisma studio' para ver dados visualmente\");\n",
    "console.log(\"• Sempre rode 'generate' após mudar schema\");\n",
    "console.log(\"• Use 'migrate dev' durante desenvolvimento\");\n",
    "console.log(\"• Use 'migrate deploy' em produção\");"
   ]
  },
  {
   "cell_type": "markdown",
   "id": "1db8fa10",
   "metadata": {},
   "source": [
    "## 🚨 Resolução de Problemas Comuns\n",
    "\n",
    "Se algo der errado, aqui estão as soluções mais comuns:"
   ]
  },
  {
   "cell_type": "code",
   "execution_count": null,
   "id": "5f268bf4",
   "metadata": {
    "vscode": {
     "languageId": "javascript"
    }
   },
   "outputs": [],
   "source": [
    "// Problemas comuns e soluções:\n",
    "\n",
    "const problemas = {\n",
    "  \"❌ Error: Environment variable not found: DATABASE_URL\": {\n",
    "    \"causa\": \"Arquivo .env não existe ou está mal configurado\",\n",
    "    \"solução\": [\n",
    "      \"1. Crie arquivo .env na raiz do projeto\",\n",
    "      \"2. Adicione: DATABASE_URL=\\\"file:./dev.db\\\"\",\n",
    "      \"3. Reinicie o terminal/VS Code\"\n",
    "    ]\n",
    "  },\n",
    "  \n",
    "  \"❌ Can't reach database server\": {\n",
    "    \"causa\": \"Problema com o SQLite ou permissões\",\n",
    "    \"solução\": [\n",
    "      \"1. Verifique se tem permissão de escrita na pasta\",\n",
    "      \"2. Delete o arquivo .db e rode migrate novamente\",\n",
    "      \"3. Instale sqlite3: npm install sqlite3\"\n",
    "    ]\n",
    "  },\n",
    "  \n",
    "  \"❌ PrismaClient is unable to be imported\": {\n",
    "    \"causa\": \"Prisma Client não foi gerado\",\n",
    "    \"solução\": [\n",
    "      \"1. Execute: npx prisma generate\",\n",
    "      \"2. Verifique se @prisma/client está instalado\",\n",
    "      \"3. Reinicie o VS Code para atualizar types\"\n",
    "    ]\n",
    "  },\n",
    "  \n",
    "  \"❌ Migration failed\": {\n",
    "    \"causa\": \"Conflito no schema ou dados existentes\",\n",
    "    \"solução\": [\n",
    "      \"1. Execute: npx prisma migrate reset\",\n",
    "      \"2. Confirme reset do banco\",\n",
    "      \"3. Execute: npx prisma migrate dev --name init\"\n",
    "    ]\n",
    "  },\n",
    "  \n",
    "  \"❌ Schema parsing failed\": {\n",
    "    \"causa\": \"Erro de sintaxe no schema.prisma\",\n",
    "    \"solução\": [\n",
    "      \"1. Execute: npx prisma validate\",\n",
    "      \"2. Verifique syntax highlighting no VS Code\",\n",
    "      \"3. Instale extensão Prisma para VS Code\"\n",
    "    ]\n",
    "  }\n",
    "};\n",
    "\n",
    "console.log(\"🔧 Guia de Troubleshooting:\");\n",
    "Object.entries(problemas).forEach(([erro, info]) => {\n",
    "  console.log(`\\n${erro}`);\n",
    "  console.log(`💡 Causa: ${info.causa}`);\n",
    "  console.log(\"🛠️ Solução:\");\n",
    "  info.solução.forEach(passo => console.log(`   ${passo}`));\n",
    "});\n",
    "\n",
    "console.log(\"\\n🆘 Se nada funcionar:\");\n",
    "console.log(\"1. Delete pasta node_modules e arquivo package-lock.json\");\n",
    "console.log(\"2. Execute: npm install\");\n",
    "console.log(\"3. Execute: npx prisma generate\");\n",
    "console.log(\"4. Execute: npx prisma migrate dev --name fresh-start\");\n",
    "\n",
    "console.log(\"\\n📞 Recursos de ajuda:\");\n",
    "console.log(\"• Documentação: https://www.prisma.io/docs\");\n",
    "console.log(\"• Discord Prisma: https://pris.ly/discord\");\n",
    "console.log(\"• GitHub Issues: https://github.com/prisma/prisma/issues\");"
   ]
  },
  {
   "cell_type": "markdown",
   "id": "0e1acc12",
   "metadata": {},
   "source": [
    "## ✅ Resumo - Checklist Final\n",
    "\n",
    "Para garantir que tudo está funcionando:"
   ]
  },
  {
   "cell_type": "code",
   "execution_count": null,
   "id": "f5f6fd41",
   "metadata": {
    "vscode": {
     "languageId": "javascript"
    }
   },
   "outputs": [],
   "source": [
    "// Checklist final - marque conforme concluir:\n",
    "\n",
    "const checklist = [\n",
    "  \"📦 Dependências instaladas (prisma, @prisma/client)\",\n",
    "  \"🔧 Arquivo .env criado com DATABASE_URL\",\n",
    "  \"📋 Schema prisma/schema.prisma verificado\",\n",
    "  \"🚀 Migração executada (npx prisma migrate dev --name init)\",\n",
    "  \"⚙️ Prisma Client gerado (npx prisma generate)\",\n",
    "  \"🧪 Teste de conexão realizado\",\n",
    "  \"📄 Arquivo dev.db criado na raiz\",\n",
    "  \"📁 Pasta prisma/migrations/ criada\"\n",
    "];\n",
    "\n",
    "console.log(\"✅ CHECKLIST DE VERIFICAÇÃO:\");\n",
    "console.log(\"=============================\");\n",
    "checklist.forEach((item, index) => {\n",
    "  console.log(`${index + 1}. [ ] ${item}`);\n",
    "});\n",
    "\n",
    "console.log(\"\\n🎯 PRÓXIMOS PASSOS:\");\n",
    "console.log(\"1. Executar seed para popular dados iniciais\");\n",
    "console.log(\"2. Criar páginas da aplicação com Prisma Client\");\n",
    "console.log(\"3. Usar npx prisma studio para visualizar dados\");\n",
    "console.log(\"4. Implementar CRUD nas rotas da API\");\n",
    "\n",
    "console.log(\"\\n🔑 COMANDOS PARA LEMBRAR:\");\n",
    "console.log(\"• npm install prisma @prisma/client\");\n",
    "console.log(\"• npx prisma migrate dev --name init\");\n",
    "console.log(\"• npx prisma generate\");\n",
    "console.log(\"• npx prisma studio\");\n",
    "\n",
    "console.log(\"\\n🎉 Parabéns! Seu SQLite + Prisma está configurado!\");\n",
    "console.log(\"Agora você pode usar o PrismaClient em suas páginas Next.js.\");"
   ]
  }
 ],
 "metadata": {
  "kernelspec": {
   "display_name": "Python 3",
   "language": "python",
   "name": "python3"
  },
  "language_info": {
   "name": "python",
   "version": "3.12.3"
  }
 },
 "nbformat": 4,
 "nbformat_minor": 5
}
